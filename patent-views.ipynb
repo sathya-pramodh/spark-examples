{
 "cells": [
  {
   "cell_type": "code",
   "execution_count": 1,
   "id": "c8ed50c2-e27e-4b42-8513-85b6caf243f9",
   "metadata": {},
   "outputs": [],
   "source": [
    "%%capture\n",
    "!mkdir zips"
   ]
  },
  {
   "cell_type": "code",
   "execution_count": 2,
   "id": "18b63fd0-8588-447d-bb08-8dd5581f7a5a",
   "metadata": {
    "scrolled": true
   },
   "outputs": [],
   "source": [
    "%%capture\n",
    "!wget https://s3.amazonaws.com/data.patentsview.org/download/g_patent_abstract.tsv.zip;"
   ]
  },
  {
   "cell_type": "code",
   "execution_count": 2,
   "id": "1c642aea-de66-47e4-a55b-8820f88a4bc2",
   "metadata": {},
   "outputs": [],
   "source": [
    "%%capture\n",
    "!mv g_patent_abstract.tsv.zip zips"
   ]
  },
  {
   "cell_type": "code",
   "execution_count": 2,
   "id": "2c28dffc-02b9-4b8f-8ddd-0b55586f75c9",
   "metadata": {},
   "outputs": [],
   "source": [
    "%%capture\n",
    "!unzip zips/g_patent_abstract.tsv.zip -d data/"
   ]
  },
  {
   "cell_type": "code",
   "execution_count": 3,
   "id": "84b198f2-11fa-4b1b-ac2f-9e3c994d1658",
   "metadata": {},
   "outputs": [
    {
     "name": "stdout",
     "output_type": "stream",
     "text": [
      "\"patent_id\"\t\"patent_abstract\"\n",
      "\"10000000\"\t\"A frequency modulated (coherent) laser detection and ranging system includes a read-out integrated circuit formed with a two-dimensional array of detector elements each including a photosensitive region receiving both return light reflected from a target and light from a local oscillator, and local processing circuitry sampling the output of the photosensitive region four times during each sample period clock cycle to obtain quadrature components. A data bus coupled to one or more outputs of each of the detector elements receives the quadrature components from each of the detector elements for each sample period and serializes the received quadrature components. A processor coupled to the data bus receives the serialized quadrature components and determines an amplitude and a phase for at least one interfering frequency corresponding to interference between the return light and the local oscillator light using the quadrature components.\"\n",
      "\"10000001\"\t\"The injection molding machine includes a fixed platen, a moveable platen moving forward and backward by a toggle link, a base plate supporting the toggle link, a driving part for mold clamping to operate the toggle link, a driving part for mold thickness adjustment to adjust a mold thickness, and a control unit to calculate a movement distance gap before a clamping process by controlling the driving part for mold thickness adjustment to move the base plate backward and then move the base plate forward to a target movement position based on a fold amount of the toggle link, and control the driving part for mold thickness adjustment using a value obtained by deducting the movement distance gap from the fold amount of the toggle link when producing a clamp force.\"\n"
     ]
    }
   ],
   "source": [
    "!head -n 3 data/g_patent_abstract.tsv"
   ]
  },
  {
   "cell_type": "code",
   "execution_count": 4,
   "id": "506d1a71-1c79-48ab-8c4b-e12c51489a30",
   "metadata": {},
   "outputs": [],
   "source": [
    "%%capture\n",
    "!pip install pyspark"
   ]
  },
  {
   "cell_type": "code",
   "execution_count": 1,
   "id": "595f61d8-e526-4259-8331-c37249edc974",
   "metadata": {},
   "outputs": [],
   "source": [
    "import pyspark\n",
    "from pyspark.sql import SparkSession\n",
    "from pyspark.ml.feature import Tokenizer, Word2Vec, StopWordsRemover\n",
    "from pyspark.ml.recommendation import ALS\n",
    "from collections import defaultdict\n",
    "import numpy as np"
   ]
  },
  {
   "cell_type": "code",
   "execution_count": 38,
   "id": "3ca99e12-3c2e-442d-9940-bb2622a729c6",
   "metadata": {},
   "outputs": [],
   "source": [
    "spark = SparkSession.builder\\\n",
    ".config(\"spark.executor.memory\", \"4g\") \\\n",
    ".config(\"spark.executor.instances\", \"4\") \\\n",
    ".config(\"spark.executor.cores\", \"2\") \\\n",
    ".config(\"spark.driver.memory\", \"4g\") \\\n",
    ".getOrCreate()"
   ]
  },
  {
   "cell_type": "code",
   "execution_count": 39,
   "id": "f4eb6b23-c275-4092-8909-6136dfcd002c",
   "metadata": {},
   "outputs": [
    {
     "name": "stderr",
     "output_type": "stream",
     "text": [
      "                                                                                \r"
     ]
    }
   ],
   "source": [
    "abstracts = spark.read.format(\"csv\").options(inferSchema = \"True\", header = \"True\", sep = \"\\t\" )\\\n",
    "            .load(\"./data/g_patent_abstract.tsv\")"
   ]
  },
  {
   "cell_type": "code",
   "execution_count": 40,
   "id": "0e19d6c1-7410-4394-b040-08ff31936561",
   "metadata": {},
   "outputs": [
    {
     "name": "stdout",
     "output_type": "stream",
     "text": [
      "+---------+--------------------+\n",
      "|patent_id|     patent_abstract|\n",
      "+---------+--------------------+\n",
      "| 10000000|A frequency modul...|\n",
      "| 10000001|The injection mol...|\n",
      "| 10000002|The present inven...|\n",
      "| 10000003|The invention rel...|\n",
      "| 10000004|The present inven...|\n",
      "| 10000005|A vacuum forming ...|\n",
      "| 10000006|A thermoforming m...|\n",
      "| 10000007|An expanding tool...|\n",
      "| 10000008|A decorated strip...|\n",
      "| 10000009|In sterile, addit...|\n",
      "| 10000010|3-D printing syst...|\n",
      "| 10000011|To reduce distort...|\n",
      "| 10000014|The present inven...|\n",
      "| 10000015|A hermetically se...|\n",
      "| 10000016|A film edge seali...|\n",
      "| 10000017|The invention rel...|\n",
      "| 10000018|A stretch release...|\n",
      "| 10000019|An installation a...|\n",
      "| 10000020|A three-dimension...|\n",
      "| 10000021|There is provided...|\n",
      "+---------+--------------------+\n",
      "only showing top 20 rows\n",
      "\n"
     ]
    }
   ],
   "source": [
    "abstracts.show()"
   ]
  },
  {
   "cell_type": "code",
   "execution_count": 41,
   "id": "64361154-043b-4ee4-a7ce-a44b5913595f",
   "metadata": {},
   "outputs": [],
   "source": [
    "abstract = abstracts.withColumn(\"patent_id\", abstracts[\"patent_id\"].cast(\"int\")).limit(10000)"
   ]
  },
  {
   "cell_type": "code",
   "execution_count": 42,
   "id": "3129ced7-d37b-4aad-9040-66b2670dd8cc",
   "metadata": {},
   "outputs": [
    {
     "name": "stdout",
     "output_type": "stream",
     "text": [
      "root\n",
      " |-- patent_id: integer (nullable = true)\n",
      "\n"
     ]
    }
   ],
   "source": [
    "abstract.select(\"patent_id\").printSchema()"
   ]
  },
  {
   "cell_type": "code",
   "execution_count": 43,
   "id": "e87e7fcf-a291-4785-b4fe-caa72fb44f11",
   "metadata": {},
   "outputs": [
    {
     "name": "stdout",
     "output_type": "stream",
     "text": [
      "+---------+--------------------+\n",
      "|patent_id|     patent_abstract|\n",
      "+---------+--------------------+\n",
      "| 10000000|A frequency modul...|\n",
      "| 10000001|The injection mol...|\n",
      "| 10000002|The present inven...|\n",
      "| 10000003|The invention rel...|\n",
      "| 10000004|The present inven...|\n",
      "| 10000005|A vacuum forming ...|\n",
      "| 10000006|A thermoforming m...|\n",
      "| 10000007|An expanding tool...|\n",
      "| 10000008|A decorated strip...|\n",
      "| 10000009|In sterile, addit...|\n",
      "| 10000010|3-D printing syst...|\n",
      "| 10000011|To reduce distort...|\n",
      "| 10000014|The present inven...|\n",
      "| 10000015|A hermetically se...|\n",
      "| 10000016|A film edge seali...|\n",
      "| 10000017|The invention rel...|\n",
      "| 10000018|A stretch release...|\n",
      "| 10000019|An installation a...|\n",
      "| 10000020|A three-dimension...|\n",
      "| 10000021|There is provided...|\n",
      "+---------+--------------------+\n",
      "only showing top 20 rows\n",
      "\n"
     ]
    }
   ],
   "source": [
    "abstract.show()"
   ]
  },
  {
   "cell_type": "code",
   "execution_count": 44,
   "id": "24a58cc1-7caf-4ce0-b4ee-5d02a9e7558a",
   "metadata": {},
   "outputs": [
    {
     "data": {
      "text/plain": [
       "10000"
      ]
     },
     "execution_count": 44,
     "metadata": {},
     "output_type": "execute_result"
    }
   ],
   "source": [
    "abstract.count()"
   ]
  },
  {
   "cell_type": "code",
   "execution_count": 45,
   "id": "09e236a1-148c-471b-8d6b-05f5894698c2",
   "metadata": {},
   "outputs": [],
   "source": [
    "tokenizer = Tokenizer(inputCol=\"patent_abstract\", outputCol=\"words\")\n",
    "wordsData = tokenizer.transform(abstract.dropna())\n",
    "remover = StopWordsRemover(inputCol=\"words\", outputCol=\"filtered\")\n",
    "wordsData = remover.transform(wordsData)"
   ]
  },
  {
   "cell_type": "code",
   "execution_count": 46,
   "id": "e3e2ba67-6a31-4ef8-8e10-3459325404ef",
   "metadata": {},
   "outputs": [],
   "source": [
    "def create_vocab(words_data):\n",
    "    vocab = defaultdict(lambda: len(vocab))\n",
    "    for row in words_data.collect():\n",
    "        for word in row['filtered']:\n",
    "            vocab[word]\n",
    "    return dict(vocab)"
   ]
  },
  {
   "cell_type": "code",
   "execution_count": 47,
   "id": "6d22a25f-c905-4baa-8242-463c4b8ff8de",
   "metadata": {},
   "outputs": [
    {
     "name": "stderr",
     "output_type": "stream",
     "text": [
      "                                                                                \r"
     ]
    }
   ],
   "source": [
    "vocab = create_vocab(wordsData)\n",
    "reverse_vocab = {index: word for word, index in vocab.items()}"
   ]
  },
  {
   "cell_type": "code",
   "execution_count": 48,
   "id": "a0ad8d65-04ea-4d92-bd4c-b1e9017cce6f",
   "metadata": {},
   "outputs": [],
   "source": [
    "window_size = 10\n",
    "\n",
    "def create_cooccurrence_data(words_data, vocab, window_size):\n",
    "    cooccurrence_data = []\n",
    "    for row in words_data.collect():\n",
    "        words = row['filtered']\n",
    "        for i, word in enumerate(words):\n",
    "            word_id = vocab[word]\n",
    "            start = max(0, i - window_size)\n",
    "            end = min(len(words), i + window_size + 1)\n",
    "            for j in range(start, end):\n",
    "                if i != j:\n",
    "                    context_word_id = vocab[words[j]]\n",
    "                    cooccurrence_data.append((word_id, context_word_id, 1))\n",
    "    return cooccurrence_data"
   ]
  },
  {
   "cell_type": "code",
   "execution_count": 49,
   "id": "e60c93e9-a0a7-42b6-b9b9-0f30ba4291cc",
   "metadata": {},
   "outputs": [],
   "source": [
    "cooccurrence_data = create_cooccurrence_data(wordsData, vocab, window_size)\n",
    "\n",
    "# Convert to DataFrame\n",
    "cooccurrence_df = spark.createDataFrame(cooccurrence_data, [\"word_id\", \"context_word_id\", \"count\"])"
   ]
  },
  {
   "cell_type": "code",
   "execution_count": 50,
   "id": "a99a143c-eee3-4a89-8b05-53cb644f18f9",
   "metadata": {},
   "outputs": [],
   "source": [
    "als = ALS(\n",
    "    maxIter=15,\n",
    "    regParam=0.01,\n",
    "    rank=50,\n",
    "    userCol=\"word_id\",\n",
    "    itemCol=\"context_word_id\",\n",
    "    ratingCol=\"count\",\n",
    "    implicitPrefs=True\n",
    ")"
   ]
  },
  {
   "cell_type": "code",
   "execution_count": 51,
   "id": "69417deb-9d0a-44c1-b8d5-7f0c44b57561",
   "metadata": {},
   "outputs": [
    {
     "name": "stderr",
     "output_type": "stream",
     "text": [
      "24/07/19 19:00:07 WARN TaskSetManager: Stage 725 contains a task of very large size (14177 KiB). The maximum recommended task size is 1000 KiB.\n",
      "24/07/19 19:00:11 WARN PythonRunner: Detected deadlock while completing task 0.0 in stage 725 (TID 989): Attempting to kill Python Worker\n",
      "24/07/19 19:00:11 WARN TaskSetManager: Stage 726 contains a task of very large size (14177 KiB). The maximum recommended task size is 1000 KiB.\n",
      "                                                                                \r"
     ]
    }
   ],
   "source": [
    "model = als.fit(cooccurrence_df)"
   ]
  },
  {
   "cell_type": "code",
   "execution_count": 52,
   "id": "779535ec-a1fc-45eb-ae27-5413e5f4baed",
   "metadata": {},
   "outputs": [],
   "source": [
    "word_factors = model.userFactors\n",
    "context_factors = model.itemFactors"
   ]
  },
  {
   "cell_type": "code",
   "execution_count": 53,
   "id": "84772a68-52da-4bde-b6e3-374b4b6b60f8",
   "metadata": {},
   "outputs": [],
   "source": [
    "word_embeddings = {row.id: row.features for row in word_factors.collect()}\n",
    "context_embeddings = {row.id: row.features for row in context_factors.collect()}"
   ]
  },
  {
   "cell_type": "code",
   "execution_count": 54,
   "id": "f228fcc5-d0a3-445e-b167-a873bbbf999d",
   "metadata": {},
   "outputs": [
    {
     "name": "stdout",
     "output_type": "stream",
     "text": [
      "root\n",
      " |-- patent_id: integer (nullable = true)\n",
      " |-- patent_abstract: string (nullable = true)\n",
      " |-- words: array (nullable = true)\n",
      " |    |-- element: string (containsNull = true)\n",
      " |-- filtered: array (nullable = true)\n",
      " |    |-- element: string (containsNull = true)\n",
      "\n"
     ]
    }
   ],
   "source": [
    "wordsData.printSchema()"
   ]
  },
  {
   "cell_type": "code",
   "execution_count": 57,
   "id": "bed7b6d5-ffa2-4c85-bd79-facb0d631af3",
   "metadata": {
    "scrolled": true
   },
   "outputs": [
    {
     "name": "stderr",
     "output_type": "stream",
     "text": [
      "                                                                                \r"
     ]
    }
   ],
   "source": [
    "word2Vec = Word2Vec(vectorSize=10, minCount=0, inputCol=\"words\", outputCol=\"result\")\n",
    "word2VecModel = word2Vec.fit(wordsData.filter(wordsData[\"words\"].isNotNull()))"
   ]
  },
  {
   "cell_type": "code",
   "execution_count": 58,
   "id": "ae6b3173-964d-41db-a3bd-0e81b1280fb2",
   "metadata": {},
   "outputs": [],
   "source": [
    "word2VecEmbeddings = word2VecModel.getVectors()"
   ]
  },
  {
   "cell_type": "code",
   "execution_count": 59,
   "id": "916127a0-9074-4447-8641-163ec7ad712d",
   "metadata": {},
   "outputs": [],
   "source": [
    "def find_similar_words(word, embeddings, vocab, reverse_vocab, top_n=5):\n",
    "    word_id = vocab.get(word, None)\n",
    "    if word_id is None:\n",
    "        return []\n",
    "\n",
    "    word_vector = np.array(embeddings[word_id])\n",
    "    similarities = []\n",
    "    \n",
    "    for other_word_id, other_word_vector in embeddings.items():\n",
    "        if other_word_id != word_id:\n",
    "            other_word_vector = np.array(other_word_vector)\n",
    "            similarity = np.dot(word_vector, other_word_vector) / (np.linalg.norm(word_vector) * np.linalg.norm(other_word_vector))\n",
    "            similarities.append((reverse_vocab[other_word_id], similarity))\n",
    "    \n",
    "    similarities.sort(key=lambda x: -x[1])\n",
    "    return similarities[:top_n]"
   ]
  },
  {
   "cell_type": "code",
   "execution_count": 60,
   "id": "101a5e5a-bc03-48aa-bdbe-1697e3e8378a",
   "metadata": {},
   "outputs": [],
   "source": [
    "query_word = \"nucleus\""
   ]
  },
  {
   "cell_type": "code",
   "execution_count": 61,
   "id": "d33b65d9-b80c-44ef-a54f-749cee47d39f",
   "metadata": {},
   "outputs": [],
   "source": [
    "similar_words_als = find_similar_words(query_word, word_embeddings, vocab, reverse_vocab)"
   ]
  },
  {
   "cell_type": "code",
   "execution_count": 62,
   "id": "585eb169-2bd9-4c56-bae3-38439ce56795",
   "metadata": {},
   "outputs": [],
   "source": [
    "similar_words_w2v = word2VecModel.findSynonyms(query_word, 5).collect()"
   ]
  },
  {
   "cell_type": "code",
   "execution_count": 63,
   "id": "105cc974-95a9-4068-90c0-2e13985e9467",
   "metadata": {},
   "outputs": [
    {
     "name": "stdout",
     "output_type": "stream",
     "text": [
      "Similar words to 'nucleus' using ALS:\n",
      "searching;: 0.8494426914706388\n",
      "pooled-data: 0.8428253686397938\n",
      "number”: 0.8325180771152887\n",
      "points-of-interest: 0.8321896405497218\n",
      "“selection: 0.8296246209389496\n"
     ]
    }
   ],
   "source": [
    "print(f\"Similar words to '{query_word}' using ALS:\")\n",
    "for word, similarity in similar_words_als:\n",
    "    print(f\"{word}: {similarity}\")"
   ]
  },
  {
   "cell_type": "code",
   "execution_count": 64,
   "id": "11ad3506-74dc-4dce-92d8-ae948d7dea40",
   "metadata": {},
   "outputs": [
    {
     "name": "stdout",
     "output_type": "stream",
     "text": [
      "\n",
      "Similar words to 'nucleus' using Word2Vec:\n",
      "spint2,: 0.9273282885551453\n",
      "(n): 0.9157333374023438\n",
      "force-fit: 0.9087634086608887\n",
      "humidity,: 0.8863179087638855\n",
      "demonstrated: 0.8819639682769775\n"
     ]
    }
   ],
   "source": [
    "print(f\"\\nSimilar words to '{query_word}' using Word2Vec:\")\n",
    "for row in similar_words_w2v:\n",
    "    print(f\"{row['word']}: {row['similarity']}\")"
   ]
  }
 ],
 "metadata": {
  "kernelspec": {
   "display_name": "Python 3 (ipykernel)",
   "language": "python",
   "name": "python3"
  },
  "language_info": {
   "codemirror_mode": {
    "name": "ipython",
    "version": 3
   },
   "file_extension": ".py",
   "mimetype": "text/x-python",
   "name": "python",
   "nbconvert_exporter": "python",
   "pygments_lexer": "ipython3",
   "version": "3.12.3"
  }
 },
 "nbformat": 4,
 "nbformat_minor": 5
}
