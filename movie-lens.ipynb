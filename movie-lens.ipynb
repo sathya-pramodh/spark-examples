{
 "cells": [
  {
   "cell_type": "code",
   "execution_count": 1,
   "id": "16826b59-cbd0-4e9a-b8bc-c7780d0235c3",
   "metadata": {
    "editable": true,
    "scrolled": true,
    "slideshow": {
     "slide_type": ""
    },
    "tags": []
   },
   "outputs": [],
   "source": [
    "%%capture\n",
    "!wget https://files.grouplens.org/datasets/movielens/ml-25m.zip;"
   ]
  },
  {
   "cell_type": "code",
   "execution_count": 2,
   "id": "b5e2803a-8f28-4f46-9ae7-1f5b30914952",
   "metadata": {},
   "outputs": [],
   "source": [
    "%%capture\n",
    "!mkdir zips"
   ]
  },
  {
   "cell_type": "code",
   "execution_count": 3,
   "id": "b7e18103-b19e-43b0-a6a3-806c37bff69d",
   "metadata": {},
   "outputs": [],
   "source": [
    "%%capture\n",
    "!mv ml-25m.zip zips"
   ]
  },
  {
   "cell_type": "code",
   "execution_count": 4,
   "id": "e9186553-6c2b-4061-9323-b17a6304dac8",
   "metadata": {},
   "outputs": [],
   "source": [
    "%%capture\n",
    "!mkdir data"
   ]
  },
  {
   "cell_type": "code",
   "execution_count": 5,
   "id": "ada187ed-f21f-49a1-82b4-985673901989",
   "metadata": {},
   "outputs": [],
   "source": [
    "%%capture\n",
    "!unzip zips/ml-25m.zip -d data"
   ]
  },
  {
   "cell_type": "code",
   "execution_count": 6,
   "id": "a4385782-6d53-4ade-960c-b2d771cd1652",
   "metadata": {},
   "outputs": [],
   "source": [
    "%%capture\n",
    "!mv data/ml-25m/* data/ && rmdir data/ml-25m"
   ]
  },
  {
   "cell_type": "code",
   "execution_count": 7,
   "id": "2e6a2d27-48d7-4ef2-a121-2af307e7c998",
   "metadata": {},
   "outputs": [],
   "source": [
    "%%capture\n",
    "!pip install pyspark"
   ]
  },
  {
   "cell_type": "code",
   "execution_count": 1,
   "id": "fde92120-76f4-4763-87f1-108eee596d3a",
   "metadata": {},
   "outputs": [
    {
     "name": "stderr",
     "output_type": "stream",
     "text": [
      "Setting default log level to \"WARN\".\n",
      "To adjust logging level use sc.setLogLevel(newLevel). For SparkR, use setLogLevel(newLevel).\n",
      "24/07/17 12:22:44 WARN NativeCodeLoader: Unable to load native-hadoop library for your platform... using builtin-java classes where applicable\n"
     ]
    }
   ],
   "source": [
    "import pyspark\n",
    "from pyspark.sql import SparkSession  \n",
    "spark = SparkSession.builder.appName('movie-lens').getOrCreate()"
   ]
  },
  {
   "cell_type": "code",
   "execution_count": 2,
   "id": "c17a06d0-b9eb-4d32-b508-3e7468e96585",
   "metadata": {},
   "outputs": [
    {
     "name": "stdout",
     "output_type": "stream",
     "text": [
      "+-------+--------------------+--------------------+\n",
      "|movieId|               title|              genres|\n",
      "+-------+--------------------+--------------------+\n",
      "|      1|    Toy Story (1995)|Adventure|Animati...|\n",
      "|      2|      Jumanji (1995)|Adventure|Childre...|\n",
      "|      3|Grumpier Old Men ...|      Comedy|Romance|\n",
      "|      4|Waiting to Exhale...|Comedy|Drama|Romance|\n",
      "|      5|Father of the Bri...|              Comedy|\n",
      "|      6|         Heat (1995)|Action|Crime|Thri...|\n",
      "|      7|      Sabrina (1995)|      Comedy|Romance|\n",
      "|      8| Tom and Huck (1995)|  Adventure|Children|\n",
      "|      9| Sudden Death (1995)|              Action|\n",
      "|     10|    GoldenEye (1995)|Action|Adventure|...|\n",
      "|     11|American Presiden...|Comedy|Drama|Romance|\n",
      "|     12|Dracula: Dead and...|       Comedy|Horror|\n",
      "|     13|        Balto (1995)|Adventure|Animati...|\n",
      "|     14|        Nixon (1995)|               Drama|\n",
      "|     15|Cutthroat Island ...|Action|Adventure|...|\n",
      "|     16|       Casino (1995)|         Crime|Drama|\n",
      "|     17|Sense and Sensibi...|       Drama|Romance|\n",
      "|     18|   Four Rooms (1995)|              Comedy|\n",
      "|     19|Ace Ventura: When...|              Comedy|\n",
      "|     20|  Money Train (1995)|Action|Comedy|Cri...|\n",
      "+-------+--------------------+--------------------+\n",
      "only showing top 20 rows\n",
      "\n",
      "+------+-------+------+----------+\n",
      "|userId|movieId|rating| timestamp|\n",
      "+------+-------+------+----------+\n",
      "|     1|    296|   5.0|1147880044|\n",
      "|     1|    306|   3.5|1147868817|\n",
      "|     1|    307|   5.0|1147868828|\n",
      "|     1|    665|   5.0|1147878820|\n",
      "|     1|    899|   3.5|1147868510|\n",
      "|     1|   1088|   4.0|1147868495|\n",
      "|     1|   1175|   3.5|1147868826|\n",
      "|     1|   1217|   3.5|1147878326|\n",
      "|     1|   1237|   5.0|1147868839|\n",
      "|     1|   1250|   4.0|1147868414|\n",
      "|     1|   1260|   3.5|1147877857|\n",
      "|     1|   1653|   4.0|1147868097|\n",
      "|     1|   2011|   2.5|1147868079|\n",
      "|     1|   2012|   2.5|1147868068|\n",
      "|     1|   2068|   2.5|1147869044|\n",
      "|     1|   2161|   3.5|1147868609|\n",
      "|     1|   2351|   4.5|1147877957|\n",
      "|     1|   2573|   4.0|1147878923|\n",
      "|     1|   2632|   5.0|1147878248|\n",
      "|     1|   2692|   5.0|1147869100|\n",
      "+------+-------+------+----------+\n",
      "only showing top 20 rows\n",
      "\n",
      "+-------+-------+------+\n",
      "|movieId| imdbId|tmdbId|\n",
      "+-------+-------+------+\n",
      "|      1|0114709|   862|\n",
      "|      2|0113497|  8844|\n",
      "|      3|0113228| 15602|\n",
      "|      4|0114885| 31357|\n",
      "|      5|0113041| 11862|\n",
      "|      6|0113277|   949|\n",
      "|      7|0114319| 11860|\n",
      "|      8|0112302| 45325|\n",
      "|      9|0114576|  9091|\n",
      "|     10|0113189|   710|\n",
      "|     11|0112346|  9087|\n",
      "|     12|0112896| 12110|\n",
      "|     13|0112453| 21032|\n",
      "|     14|0113987| 10858|\n",
      "|     15|0112760|  1408|\n",
      "|     16|0112641|   524|\n",
      "|     17|0114388|  4584|\n",
      "|     18|0113101|     5|\n",
      "|     19|0112281|  9273|\n",
      "|     20|0113845| 11517|\n",
      "+-------+-------+------+\n",
      "only showing top 20 rows\n",
      "\n",
      "+------+-------+--------------------+----------+\n",
      "|userId|movieId|                 tag| timestamp|\n",
      "+------+-------+--------------------+----------+\n",
      "|     3|    260|             classic|1439472355|\n",
      "|     3|    260|              sci-fi|1439472256|\n",
      "|     4|   1732|         dark comedy|1573943598|\n",
      "|     4|   1732|      great dialogue|1573943604|\n",
      "|     4|   7569|    so bad it's good|1573943455|\n",
      "|     4|  44665|unreliable narrators|1573943619|\n",
      "|     4| 115569|               tense|1573943077|\n",
      "|     4| 115713|artificial intell...|1573942979|\n",
      "|     4| 115713|       philosophical|1573943033|\n",
      "|     4| 115713|               tense|1573943042|\n",
      "|     4| 148426|    so bad it's good|1573942965|\n",
      "|     4| 164909|              cliche|1573943721|\n",
      "|     4| 164909|             musical|1573943714|\n",
      "|     4| 168250|              horror|1573945163|\n",
      "|     4| 168250|       unpredictable|1573945171|\n",
      "|    19|   2160|Oscar (Best Suppo...|1446909853|\n",
      "|    19|   7099|           adventure|1445286141|\n",
      "|    19|   7099|               anime|1445286127|\n",
      "|    19|   7099|             ecology|1445286153|\n",
      "|    19|   7099|             fantasy|1445286144|\n",
      "+------+-------+--------------------+----------+\n",
      "only showing top 20 rows\n",
      "\n"
     ]
    }
   ],
   "source": [
    "movies = spark.read.load(\"./data/movies.csv\", format='csv', header = True)\n",
    "ratings = spark.read.load('./data/ratings.csv', format='csv', header = True)\n",
    "links = spark.read.load(\"./data/links.csv\", format='csv', header = True)\n",
    "tags = spark.read.load(\"./data/tags.csv\", format='csv', header = True)\n",
    "movies.show()\n",
    "ratings.show()\n",
    "links.show()\n",
    "tags.show()"
   ]
  },
  {
   "cell_type": "code",
   "execution_count": 3,
   "id": "b2835b6e-cc32-43d2-9d7c-05c672b9c1c4",
   "metadata": {
    "scrolled": true
   },
   "outputs": [
    {
     "name": "stdout",
     "output_type": "stream",
     "text": [
      "root\n",
      " |-- movieId: string (nullable = true)\n",
      " |-- title: string (nullable = true)\n",
      " |-- genres: string (nullable = true)\n",
      "\n",
      "root\n",
      " |-- userId: string (nullable = true)\n",
      " |-- movieId: string (nullable = true)\n",
      " |-- rating: string (nullable = true)\n",
      "\n",
      "root\n",
      " |-- movieId: string (nullable = true)\n",
      " |-- imdbId: string (nullable = true)\n",
      " |-- tmdbId: string (nullable = true)\n",
      "\n",
      "root\n",
      " |-- userId: string (nullable = true)\n",
      " |-- movieId: string (nullable = true)\n",
      " |-- tag: string (nullable = true)\n",
      "\n"
     ]
    },
    {
     "name": "stderr",
     "output_type": "stream",
     "text": [
      "24/07/17 12:23:00 WARN GarbageCollectionMetrics: To enable non-built-in garbage collector(s) List(G1 Concurrent GC), users should configure it(them) to spark.eventLog.gcMetrics.youngGenerationGarbageCollectors or spark.eventLog.gcMetrics.oldGenerationGarbageCollectors\n"
     ]
    }
   ],
   "source": [
    "movie = movies.select(\"movieId\", \"title\", \"genres\")\n",
    "movie.printSchema()\n",
    "rating = ratings.select(\"userId\", \"movieId\", \"rating\")\n",
    "rating.printSchema()\n",
    "link = links.select(\"movieId\", \"imdbId\", \"tmdbId\")\n",
    "link.printSchema()\n",
    "tag = tags.select(\"userId\", \"movieId\", \"tag\")\n",
    "tag.printSchema()"
   ]
  },
  {
   "cell_type": "code",
   "execution_count": 4,
   "id": "61d0e51a-185b-4a2c-acd8-fcc1868ef0c4",
   "metadata": {
    "scrolled": true
   },
   "outputs": [
    {
     "name": "stdout",
     "output_type": "stream",
     "text": [
      "root\n",
      " |-- movieId: integer (nullable = true)\n",
      " |-- title: string (nullable = true)\n",
      " |-- genres: string (nullable = true)\n",
      "\n",
      "root\n",
      " |-- userId: integer (nullable = true)\n",
      " |-- movieId: integer (nullable = true)\n",
      " |-- rating: float (nullable = true)\n",
      " |-- timestamp: string (nullable = true)\n",
      "\n",
      "root\n",
      " |-- movieId: integer (nullable = true)\n",
      " |-- imdbId: integer (nullable = true)\n",
      " |-- tmdbId: integer (nullable = true)\n",
      "\n",
      "root\n",
      " |-- userId: integer (nullable = true)\n",
      " |-- movieId: integer (nullable = true)\n",
      " |-- tag: string (nullable = true)\n",
      " |-- timestamp: string (nullable = true)\n",
      "\n"
     ]
    }
   ],
   "source": [
    "movies_df = movies.withColumn(\"movieId\", movies[\"movieId\"].cast(\"int\"))\n",
    "movies_df.printSchema()\n",
    "ratings_df = ratings.withColumn('userId', ratings['userId'].cast('int')).\\\n",
    "withColumn('movieId', ratings['movieId'].cast('int')).withColumn('rating', ratings['rating'].cast('float'))\n",
    "ratings_df.printSchema()\n",
    "links_df = links.withColumn(\"movieId\", links[\"movieId\"].cast(\"int\")).\\\n",
    "withColumn(\"imdbId\", links[\"imdbId\"].cast(\"int\")).\\\n",
    "withColumn(\"tmdbId\", links[\"tmdbId\"].cast(\"int\"))\n",
    "links_df.printSchema()\n",
    "tags_df = tags.withColumn(\"userId\", tags[\"userId\"].cast(\"int\")).\\\n",
    "withColumn(\"movieId\", tags[\"movieId\"].cast(\"int\"))\n",
    "tags_df.printSchema()"
   ]
  },
  {
   "cell_type": "code",
   "execution_count": 5,
   "id": "0a453789-8ef7-4572-b35e-a6659a4fd878",
   "metadata": {},
   "outputs": [
    {
     "name": "stdout",
     "output_type": "stream",
     "text": [
      "Number of values for movies for training is:  37458\n"
     ]
    },
    {
     "name": "stderr",
     "output_type": "stream",
     "text": [
      "                                                                                \r"
     ]
    },
    {
     "name": "stdout",
     "output_type": "stream",
     "text": [
      "Number of values for ratings for training is:  14998964\n",
      "Number of values for links for training is:  37458\n"
     ]
    },
    {
     "name": "stderr",
     "output_type": "stream",
     "text": [
      "                                                                                \r"
     ]
    },
    {
     "name": "stdout",
     "output_type": "stream",
     "text": [
      "Number of values for tags for training is:  656055\n",
      "Number of values for movies for validation is:  12443\n"
     ]
    },
    {
     "name": "stderr",
     "output_type": "stream",
     "text": [
      "                                                                                \r"
     ]
    },
    {
     "name": "stdout",
     "output_type": "stream",
     "text": [
      "Number of values for ratings for validation is:  5000767\n",
      "Number of values for links for validation is:  12443\n"
     ]
    },
    {
     "name": "stderr",
     "output_type": "stream",
     "text": [
      "                                                                                \r"
     ]
    },
    {
     "name": "stdout",
     "output_type": "stream",
     "text": [
      "Number of values for tags for validation is:  218637\n",
      "Number of values for movies for testing is:  12522\n"
     ]
    },
    {
     "name": "stderr",
     "output_type": "stream",
     "text": [
      "                                                                                \r"
     ]
    },
    {
     "name": "stdout",
     "output_type": "stream",
     "text": [
      "Number of values for ratings for testing is:  5000364\n",
      "Number of values for links for testing is:  12522\n",
      "Number of values for tags for testing is:  218668\n"
     ]
    }
   ],
   "source": [
    "train_data = {}\n",
    "validation_data = {}\n",
    "test_data = {}\n",
    "data_frames = [(\"movies\", movies_df), (\"ratings\", ratings_df), (\"links\", links_df), (\"tags\", tags_df)]\n",
    "for (name, frame) in data_frames:\n",
    "    train, validation, test = frame.randomSplit([0.6,0.2,0.2], seed = 0)\n",
    "    train_data[name] = train\n",
    "    validation_data[name] = validation\n",
    "    test_data[name] = test\n",
    "\n",
    "for (name, data) in train_data.items():\n",
    "    print(f\"Number of values for {name} for training is: \", data.count())\n",
    "for (name, data) in validation_data.items():\n",
    "    print(f\"Number of values for {name} for validation is: \", data.count())\n",
    "for (name, data) in test_data.items():\n",
    "    print(f\"Number of values for {name} for testing is: \", data.count())"
   ]
  }
 ],
 "metadata": {
  "kernelspec": {
   "display_name": "Python 3 (ipykernel)",
   "language": "python",
   "name": "python3"
  },
  "language_info": {
   "codemirror_mode": {
    "name": "ipython",
    "version": 3
   },
   "file_extension": ".py",
   "mimetype": "text/x-python",
   "name": "python",
   "nbconvert_exporter": "python",
   "pygments_lexer": "ipython3",
   "version": "3.12.3"
  }
 },
 "nbformat": 4,
 "nbformat_minor": 5
}
